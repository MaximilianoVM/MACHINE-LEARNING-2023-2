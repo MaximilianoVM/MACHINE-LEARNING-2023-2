{
 "cells": [
  {
   "cell_type": "code",
   "execution_count": 43,
   "metadata": {},
   "outputs": [],
   "source": [
    "import pandas as pd \n",
    "import numpy as np "
   ]
  },
  {
   "cell_type": "markdown",
   "metadata": {},
   "source": [
    "<h1>Aprendizaje de arboles de decision</h1>\n",
    "<ul>\n",
    "    <li> Objetivo: aprender un arbol de decision consistente con los ejemplos\n",
    "    <li> Para posteriormente clasificar ejemplos nuevos\n",
    "    <li> Ejemplos de conjuntos de entrenamiento:\n",
    "</ul>"
   ]
  },
  {
   "cell_type": "markdown",
   "metadata": {},
   "source": [
    "![Alt text](image.png)"
   ]
  },
  {
   "cell_type": "markdown",
   "metadata": {},
   "source": [
    "<ul>\n",
    "    <li><b>Features:</b> Cielo, Temperatura, Humedad, Viento\n",
    "    <li><b>Label:</b> Jugar_tenis (La salida que queremos predecir)\n",
    "    <li><b>Class:</b> +, -\n",
    "</ul>"
   ]
  },
  {
   "cell_type": "code",
   "execution_count": 44,
   "metadata": {},
   "outputs": [
    {
     "data": {
      "text/html": [
       "<div>\n",
       "<style scoped>\n",
       "    .dataframe tbody tr th:only-of-type {\n",
       "        vertical-align: middle;\n",
       "    }\n",
       "\n",
       "    .dataframe tbody tr th {\n",
       "        vertical-align: top;\n",
       "    }\n",
       "\n",
       "    .dataframe thead th {\n",
       "        text-align: right;\n",
       "    }\n",
       "</style>\n",
       "<table border=\"1\" class=\"dataframe\">\n",
       "  <thead>\n",
       "    <tr style=\"text-align: right;\">\n",
       "      <th></th>\n",
       "      <th>Cielo</th>\n",
       "      <th>Temperatura</th>\n",
       "      <th>Humedad</th>\n",
       "      <th>Viento</th>\n",
       "      <th>Jugar_tenis</th>\n",
       "    </tr>\n",
       "  </thead>\n",
       "  <tbody>\n",
       "    <tr>\n",
       "      <th>0</th>\n",
       "      <td>Sol</td>\n",
       "      <td>Alta</td>\n",
       "      <td>Alta</td>\n",
       "      <td>Debil</td>\n",
       "      <td>-</td>\n",
       "    </tr>\n",
       "    <tr>\n",
       "      <th>1</th>\n",
       "      <td>Sol</td>\n",
       "      <td>Alta</td>\n",
       "      <td>Alta</td>\n",
       "      <td>Fuerte</td>\n",
       "      <td>-</td>\n",
       "    </tr>\n",
       "    <tr>\n",
       "      <th>2</th>\n",
       "      <td>Nubes</td>\n",
       "      <td>Alta</td>\n",
       "      <td>Alta</td>\n",
       "      <td>Debil</td>\n",
       "      <td>+</td>\n",
       "    </tr>\n",
       "    <tr>\n",
       "      <th>3</th>\n",
       "      <td>Lluvia</td>\n",
       "      <td>Suave</td>\n",
       "      <td>Alta</td>\n",
       "      <td>Debil</td>\n",
       "      <td>+</td>\n",
       "    </tr>\n",
       "    <tr>\n",
       "      <th>4</th>\n",
       "      <td>Lluvia</td>\n",
       "      <td>Baja</td>\n",
       "      <td>Normal</td>\n",
       "      <td>Debil</td>\n",
       "      <td>+</td>\n",
       "    </tr>\n",
       "    <tr>\n",
       "      <th>5</th>\n",
       "      <td>Lluvia</td>\n",
       "      <td>Baja</td>\n",
       "      <td>Normal</td>\n",
       "      <td>Fuerte</td>\n",
       "      <td>-</td>\n",
       "    </tr>\n",
       "    <tr>\n",
       "      <th>6</th>\n",
       "      <td>Nubes</td>\n",
       "      <td>Baja</td>\n",
       "      <td>Normal</td>\n",
       "      <td>Fuerte</td>\n",
       "      <td>+</td>\n",
       "    </tr>\n",
       "    <tr>\n",
       "      <th>7</th>\n",
       "      <td>Sol</td>\n",
       "      <td>Suave</td>\n",
       "      <td>Alta</td>\n",
       "      <td>Debil</td>\n",
       "      <td>-</td>\n",
       "    </tr>\n",
       "    <tr>\n",
       "      <th>8</th>\n",
       "      <td>Sol</td>\n",
       "      <td>Baja</td>\n",
       "      <td>Normal</td>\n",
       "      <td>Debil</td>\n",
       "      <td>+</td>\n",
       "    </tr>\n",
       "    <tr>\n",
       "      <th>9</th>\n",
       "      <td>Lluvia</td>\n",
       "      <td>Suave</td>\n",
       "      <td>Normal</td>\n",
       "      <td>Debil</td>\n",
       "      <td>+</td>\n",
       "    </tr>\n",
       "    <tr>\n",
       "      <th>10</th>\n",
       "      <td>Sol</td>\n",
       "      <td>Suave</td>\n",
       "      <td>Normal</td>\n",
       "      <td>Fuerte</td>\n",
       "      <td>+</td>\n",
       "    </tr>\n",
       "    <tr>\n",
       "      <th>11</th>\n",
       "      <td>Nubes</td>\n",
       "      <td>Suave</td>\n",
       "      <td>Alta</td>\n",
       "      <td>Fuerte</td>\n",
       "      <td>+</td>\n",
       "    </tr>\n",
       "    <tr>\n",
       "      <th>12</th>\n",
       "      <td>Nubes</td>\n",
       "      <td>Alta</td>\n",
       "      <td>Normal</td>\n",
       "      <td>Debil</td>\n",
       "      <td>+</td>\n",
       "    </tr>\n",
       "    <tr>\n",
       "      <th>13</th>\n",
       "      <td>Lluvia</td>\n",
       "      <td>Suave</td>\n",
       "      <td>Alta</td>\n",
       "      <td>Fuerte</td>\n",
       "      <td>-</td>\n",
       "    </tr>\n",
       "  </tbody>\n",
       "</table>\n",
       "</div>"
      ],
      "text/plain": [
       "     Cielo Temperatura Humedad  Viento Jugar_tenis\n",
       "0      Sol        Alta    Alta   Debil           -\n",
       "1      Sol        Alta    Alta  Fuerte           -\n",
       "2    Nubes        Alta    Alta   Debil           +\n",
       "3   Lluvia       Suave    Alta   Debil           +\n",
       "4   Lluvia        Baja  Normal   Debil           +\n",
       "5   Lluvia        Baja  Normal  Fuerte           -\n",
       "6    Nubes        Baja  Normal  Fuerte           +\n",
       "7      Sol       Suave    Alta   Debil           -\n",
       "8      Sol        Baja  Normal   Debil           +\n",
       "9   Lluvia       Suave  Normal   Debil           +\n",
       "10     Sol       Suave  Normal  Fuerte           +\n",
       "11   Nubes       Suave    Alta  Fuerte           +\n",
       "12   Nubes        Alta  Normal   Debil           +\n",
       "13  Lluvia       Suave    Alta  Fuerte           -"
      ]
     },
     "execution_count": 44,
     "metadata": {},
     "output_type": "execute_result"
    }
   ],
   "source": [
    "\n",
    "df = pd.read_csv(\"PlayTennis.csv\")\n",
    "df"
   ]
  },
  {
   "cell_type": "markdown",
   "metadata": {},
   "source": []
  },
  {
   "cell_type": "markdown",
   "metadata": {},
   "source": [
    "<h3>ENTROPY </h3>\n",
    "\n",
    "![Alt text](image-3.png)\n",
    "\n",
    "<ul>\n",
    "    <li>P= '+'\n",
    "    <li>N= '-'\n",
    "    <li>D= P+N + Total\n",
    "</ul>"
   ]
  },
  {
   "cell_type": "code",
   "execution_count": 45,
   "metadata": {},
   "outputs": [],
   "source": [
    "def find_entropy(df):\n",
    "    #target column\n",
    "    target = df.keys()[-1] # = Jugar_tenis\n",
    "    entropy = 0\n",
    "    values = df[target].unique() # = ['-', '+']\n",
    "    #calc entropy\n",
    "    for value in values: #itera ['-', '+']\n",
    "        fraction = df[target].value_counts()[value]/len(df[target])\n",
    "        entropy += -fraction*np.log2(fraction)\n",
    "    return entropy"
   ]
  },
  {
   "cell_type": "code",
   "execution_count": 46,
   "metadata": {},
   "outputs": [
    {
     "name": "stdout",
     "output_type": "stream",
     "text": [
      "9\n",
      "14\n"
     ]
    }
   ],
   "source": [
    "print( df['Jugar_tenis'].value_counts()['+'] )\n",
    "print( len(df['Jugar_tenis']) )"
   ]
  },
  {
   "cell_type": "code",
   "execution_count": 47,
   "metadata": {},
   "outputs": [
    {
     "data": {
      "text/plain": [
       "0.9402859586706311"
      ]
     },
     "execution_count": 47,
     "metadata": {},
     "output_type": "execute_result"
    }
   ],
   "source": [
    "find_entropy(df)"
   ]
  },
  {
   "cell_type": "markdown",
   "metadata": {},
   "source": [
    "<h3>AVERAGE INFORMATION</h3>\n",
    "\n",
    "![Alt text](image-5.png)"
   ]
  },
  {
   "cell_type": "code",
   "execution_count": 48,
   "metadata": {},
   "outputs": [],
   "source": [
    "def average_information(df, attribute):\n",
    "    target = df.keys()[-1]   # Target column\n",
    "    target_variables = df[target].unique()  # Unique target values ['-', '+']\n",
    "    variables = df[attribute].unique()    # This gives different features in that attribute (like 'Hot','Cold' in attribute=Temperature)\n",
    "    entropy2 = 0\n",
    "    \n",
    "    #The outer loop iterates over the unique values in the specified columns (variable represents a specific feature value within those columns).\n",
    "    for variable in variables: #iterates in ['Hot', 'Cold'] for example\n",
    "        entropy = 0\n",
    "        \n",
    "        #The inner loop iterates over the unique target variables ('+', '-').\n",
    "        for target_variable in target_variables: \n",
    "            \n",
    "            # Count the number of rows where the attribute matches 'variable' and the target matches 'target_variable'\n",
    "            matching_rows = df[(df[attribute] == variable) & (df[target] == target_variable)]\n",
    "            \n",
    "            #print(\"\\ntarget_variable:\",target_variable, \"\\nattribute=\", attribute, \"\\nvariable=\", variable, '\\nmatching_rows:\\n',matching_rows, '\\n \\n \\n')\n",
    "            \n",
    "            \n",
    "            # Calculate 'num' as the count of matching rows\n",
    "            num = len(matching_rows)\n",
    "            \n",
    "            # Count the total number of rows where the attribute matches 'variable'\n",
    "            total_matching_rows = len(df[df[attribute] == variable])\n",
    "            \n",
    "            # Calculate 'den' as the count of total matching rows\n",
    "            den = total_matching_rows\n",
    "            \n",
    "            # Calculate 'fraction' with 'eps' to avoid division by zero\n",
    "            eps = 1e-5  # Small positive value to avoid division by zero\n",
    "            fraction = num / (den + eps)\n",
    "            \n",
    "            # Calculate entropy contribution for this combination\n",
    "            entropy += -fraction * np.log2(fraction + eps)\n",
    "\n",
    "            #print(\"target_variable:\",target_variable, \" / attribute=\", attribute, \" / variable=\", variable, \" / num=\", num, \" / den=\", den,\n",
    "            #      \"fraction=\", fraction, \"entropy\", entropy, '\\nmatching_rows:\\n',matching_rows, '\\n')\n",
    "            \n",
    "        fraction2 = den / len(df)\n",
    "        \n",
    "        # Accumulate the entropy contributions for different 'variable' values\n",
    "        entropy2 += -fraction2 * entropy\n",
    "    \n",
    "    # Return the absolute value of 'entropy2' as the result\n",
    "    return abs(entropy2)\n"
   ]
  },
  {
   "attachments": {
    "image.png": {
     "image/png": "[encoded data removed]"
    }
   },
   "cell_type": "markdown",
   "metadata": {},
   "source": [
    "![image.png](attachment:image.png)"
   ]
  },
  {
   "cell_type": "code",
   "execution_count": 49,
   "metadata": {},
   "outputs": [],
   "source": [
    "def find_winner(df):\n",
    "    IG = []\n",
    "    for key in df.keys()[:-1]: # ['Cielo', 'Temperatura', 'Humedad', 'Viento']\n",
    "        IG.append(find_entropy(df)-average_information(df,key)) # prueba average_information para cada columna\n",
    "    print(IG) #!!!!!!!!!!!!!! \n",
    "    return df.keys()[:-1][np.argmax(IG)]"
   ]
  },
  {
   "cell_type": "code",
   "execution_count": 50,
   "metadata": {},
   "outputs": [],
   "source": [
    "def get_subtable(df, node,value):\n",
    "  return df[df[node] == value].reset_index(drop=True)"
   ]
  },
  {
   "cell_type": "code",
   "execution_count": 51,
   "metadata": {},
   "outputs": [],
   "source": [
    "def buildTree(df,tree=None): \n",
    "    target = df.keys()[-1]   #target column\n",
    "    \n",
    "    #Here we build our decision tree\n",
    "\n",
    "    #Get attribute with maximum information gain\n",
    "    node = find_winner(df)\n",
    "    \n",
    "    #Get distinct value of that attribute e.g Salary is node and Low,Med and High are values\n",
    "    attValue = np.unique(df[node])\n",
    "    \n",
    "    #Create an empty dictionary to create tree    \n",
    "    if tree is None:                    \n",
    "        tree={}\n",
    "        tree[node] = {}\n",
    "    \n",
    "    #We make loop to construct a tree by calling this function recursively. \n",
    "    #In this we check if the subset is pure and stops if it is pure. \n",
    "\n",
    "    for value in attValue:\n",
    "        \n",
    "        subtable = get_subtable(df,node,value)\n",
    "        clValue,counts = np.unique(subtable[target],return_counts=True)                        \n",
    "        \n",
    "        if len(counts)==1:#Checking purity of subset\n",
    "            tree[node][value] = clValue[0]                                                    \n",
    "        else:        \n",
    "            tree[node][value] = buildTree(subtable) #Calling the function recursively \n",
    "                   \n",
    "    return tree"
   ]
  },
  {
   "cell_type": "code",
   "execution_count": 52,
   "metadata": {},
   "outputs": [
    {
     "name": "stdout",
     "output_type": "stream",
     "text": [
      "[0.24677284704430968, 0.029250277440590056, 0.15186342018903565, 0.04815511674536155]\n",
      "[2.791011613956229e-05, 0.020000013444066544, 0.020000013444066544, 0.9709419383204906]\n",
      "[2.791011613956229e-05, 0.5709641359328611, 0.9709419383204906, 0.020000013444066544]\n"
     ]
    }
   ],
   "source": [
    "#build Tree\n",
    "tree = buildTree(df)"
   ]
  },
  {
   "cell_type": "code",
   "execution_count": 53,
   "metadata": {},
   "outputs": [
    {
     "name": "stdout",
     "output_type": "stream",
     "text": [
      "{'Cielo': {'Lluvia': {'Viento': {'Debil': '+', 'Fuerte': '-'}},\n",
      "           'Nubes': '+',\n",
      "           'Sol': {'Humedad': {'Alta': '-', 'Normal': '+'}}}}\n"
     ]
    }
   ],
   "source": [
    "import pprint\n",
    "pprint.pprint(tree)"
   ]
  },
  {
   "cell_type": "markdown",
   "metadata": {},
   "source": [
    "![Alt text](image-6.png)"
   ]
  },
  {
   "cell_type": "code",
   "execution_count": 54,
   "metadata": {},
   "outputs": [
    {
     "data": {
      "text/html": [
       "<div>\n",
       "<style scoped>\n",
       "    .dataframe tbody tr th:only-of-type {\n",
       "        vertical-align: middle;\n",
       "    }\n",
       "\n",
       "    .dataframe tbody tr th {\n",
       "        vertical-align: top;\n",
       "    }\n",
       "\n",
       "    .dataframe thead th {\n",
       "        text-align: right;\n",
       "    }\n",
       "</style>\n",
       "<table border=\"1\" class=\"dataframe\">\n",
       "  <thead>\n",
       "    <tr style=\"text-align: right;\">\n",
       "      <th></th>\n",
       "      <th>Color</th>\n",
       "      <th>Forma</th>\n",
       "      <th>Tamanio</th>\n",
       "      <th>Clase</th>\n",
       "    </tr>\n",
       "  </thead>\n",
       "  <tbody>\n",
       "    <tr>\n",
       "      <th>0</th>\n",
       "      <td>Rojo</td>\n",
       "      <td>Cuadrado</td>\n",
       "      <td>Grande</td>\n",
       "      <td>+</td>\n",
       "    </tr>\n",
       "    <tr>\n",
       "      <th>1</th>\n",
       "      <td>Azul</td>\n",
       "      <td>Cuadrado</td>\n",
       "      <td>Grande</td>\n",
       "      <td>+</td>\n",
       "    </tr>\n",
       "    <tr>\n",
       "      <th>2</th>\n",
       "      <td>Rojo</td>\n",
       "      <td>Redondo</td>\n",
       "      <td>Pequenio</td>\n",
       "      <td>-</td>\n",
       "    </tr>\n",
       "    <tr>\n",
       "      <th>3</th>\n",
       "      <td>Verde</td>\n",
       "      <td>Cuadrado</td>\n",
       "      <td>Pequenio</td>\n",
       "      <td>-</td>\n",
       "    </tr>\n",
       "    <tr>\n",
       "      <th>4</th>\n",
       "      <td>Rojo</td>\n",
       "      <td>Redondo</td>\n",
       "      <td>Grande</td>\n",
       "      <td>+</td>\n",
       "    </tr>\n",
       "    <tr>\n",
       "      <th>5</th>\n",
       "      <td>Verde</td>\n",
       "      <td>Cuadrado</td>\n",
       "      <td>Grande</td>\n",
       "      <td>-</td>\n",
       "    </tr>\n",
       "  </tbody>\n",
       "</table>\n",
       "</div>"
      ],
      "text/plain": [
       "   Color     Forma   Tamanio Clase\n",
       "0   Rojo  Cuadrado    Grande     +\n",
       "1   Azul  Cuadrado    Grande     +\n",
       "2   Rojo   Redondo  Pequenio     -\n",
       "3  Verde  Cuadrado  Pequenio     -\n",
       "4   Rojo   Redondo    Grande     +\n",
       "5  Verde  Cuadrado    Grande     -"
      ]
     },
     "execution_count": 54,
     "metadata": {},
     "output_type": "execute_result"
    }
   ],
   "source": [
    "\n",
    "df_1 = pd.read_csv(\"Figuras.csv\")\n",
    "\n",
    "df_1"
   ]
  },
  {
   "cell_type": "code",
   "execution_count": 55,
   "metadata": {},
   "outputs": [
    {
     "name": "stdout",
     "output_type": "stream",
     "text": [
      "[0.5408680402788737, 2.737797669594144e-05, 0.4591685048344819]\n",
      "[2.7105592701248682e-05, 0.2516469275466968, 0.9182910250349537]\n"
     ]
    }
   ],
   "source": [
    "#build Tree\n",
    "arbol = buildTree(df_1)"
   ]
  },
  {
   "cell_type": "code",
   "execution_count": 56,
   "metadata": {},
   "outputs": [
    {
     "name": "stdout",
     "output_type": "stream",
     "text": [
      "{'Color': {'Azul': '+',\n",
      "           'Rojo': {'Tamanio': {'Grande': '+', 'Pequenio': '-'}},\n",
      "           'Verde': '-'}}\n"
     ]
    }
   ],
   "source": [
    "import pprint\n",
    "pprint.pprint(arbol)"
   ]
  },
  {
   "cell_type": "markdown",
   "metadata": {},
   "source": [
    "![Alt text](image-7.png)"
   ]
  },
  {
   "cell_type": "markdown",
   "metadata": {},
   "source": [
    "===================================================="
   ]
  },
  {
   "cell_type": "code",
   "execution_count": 57,
   "metadata": {},
   "outputs": [
    {
     "data": {
      "text/plain": [
       "'Jugar_tenis'"
      ]
     },
     "execution_count": 57,
     "metadata": {},
     "output_type": "execute_result"
    }
   ],
   "source": [
    "target = df.keys()[-1] \n",
    "target"
   ]
  },
  {
   "cell_type": "code",
   "execution_count": 58,
   "metadata": {},
   "outputs": [
    {
     "name": "stdout",
     "output_type": "stream",
     "text": [
      "[0.24677284704430968, 0.029250277440590056, 0.15186342018903565, 0.04815511674536155]\n"
     ]
    },
    {
     "data": {
      "text/plain": [
       "'Cielo'"
      ]
     },
     "execution_count": 58,
     "metadata": {},
     "output_type": "execute_result"
    }
   ],
   "source": [
    "node = find_winner(df)\n",
    "node"
   ]
  },
  {
   "cell_type": "code",
   "execution_count": 59,
   "metadata": {},
   "outputs": [
    {
     "data": {
      "text/plain": [
       "array(['Lluvia', 'Nubes', 'Sol'], dtype=object)"
      ]
     },
     "execution_count": 59,
     "metadata": {},
     "output_type": "execute_result"
    }
   ],
   "source": [
    "attValue = np.unique(df[node])\n",
    "attValue"
   ]
  },
  {
   "cell_type": "code",
   "execution_count": 60,
   "metadata": {},
   "outputs": [
    {
     "data": {
      "text/html": [
       "<div>\n",
       "<style scoped>\n",
       "    .dataframe tbody tr th:only-of-type {\n",
       "        vertical-align: middle;\n",
       "    }\n",
       "\n",
       "    .dataframe tbody tr th {\n",
       "        vertical-align: top;\n",
       "    }\n",
       "\n",
       "    .dataframe thead th {\n",
       "        text-align: right;\n",
       "    }\n",
       "</style>\n",
       "<table border=\"1\" class=\"dataframe\">\n",
       "  <thead>\n",
       "    <tr style=\"text-align: right;\">\n",
       "      <th></th>\n",
       "      <th>Cielo</th>\n",
       "      <th>Temperatura</th>\n",
       "      <th>Humedad</th>\n",
       "      <th>Viento</th>\n",
       "      <th>Jugar_tenis</th>\n",
       "    </tr>\n",
       "  </thead>\n",
       "  <tbody>\n",
       "    <tr>\n",
       "      <th>0</th>\n",
       "      <td>Sol</td>\n",
       "      <td>Alta</td>\n",
       "      <td>Alta</td>\n",
       "      <td>Debil</td>\n",
       "      <td>-</td>\n",
       "    </tr>\n",
       "    <tr>\n",
       "      <th>1</th>\n",
       "      <td>Sol</td>\n",
       "      <td>Alta</td>\n",
       "      <td>Alta</td>\n",
       "      <td>Fuerte</td>\n",
       "      <td>-</td>\n",
       "    </tr>\n",
       "    <tr>\n",
       "      <th>2</th>\n",
       "      <td>Sol</td>\n",
       "      <td>Suave</td>\n",
       "      <td>Alta</td>\n",
       "      <td>Debil</td>\n",
       "      <td>-</td>\n",
       "    </tr>\n",
       "    <tr>\n",
       "      <th>3</th>\n",
       "      <td>Sol</td>\n",
       "      <td>Baja</td>\n",
       "      <td>Normal</td>\n",
       "      <td>Debil</td>\n",
       "      <td>+</td>\n",
       "    </tr>\n",
       "    <tr>\n",
       "      <th>4</th>\n",
       "      <td>Sol</td>\n",
       "      <td>Suave</td>\n",
       "      <td>Normal</td>\n",
       "      <td>Fuerte</td>\n",
       "      <td>+</td>\n",
       "    </tr>\n",
       "  </tbody>\n",
       "</table>\n",
       "</div>"
      ],
      "text/plain": [
       "  Cielo Temperatura Humedad  Viento Jugar_tenis\n",
       "0   Sol        Alta    Alta   Debil           -\n",
       "1   Sol        Alta    Alta  Fuerte           -\n",
       "2   Sol       Suave    Alta   Debil           -\n",
       "3   Sol        Baja  Normal   Debil           +\n",
       "4   Sol       Suave  Normal  Fuerte           +"
      ]
     },
     "execution_count": 60,
     "metadata": {},
     "output_type": "execute_result"
    }
   ],
   "source": [
    "subtable = get_subtable(df,node,'Sol')\n",
    "subtable"
   ]
  },
  {
   "cell_type": "code",
   "execution_count": 61,
   "metadata": {},
   "outputs": [],
   "source": [
    "clValue,counts = np.unique(subtable['Jugar_tenis'],return_counts=True)\n"
   ]
  },
  {
   "cell_type": "code",
   "execution_count": 62,
   "metadata": {},
   "outputs": [
    {
     "data": {
      "text/plain": [
       "array(['+', '-'], dtype=object)"
      ]
     },
     "execution_count": 62,
     "metadata": {},
     "output_type": "execute_result"
    }
   ],
   "source": [
    "clValue"
   ]
  },
  {
   "cell_type": "code",
   "execution_count": 63,
   "metadata": {},
   "outputs": [
    {
     "data": {
      "text/plain": [
       "array([2, 3], dtype=int64)"
      ]
     },
     "execution_count": 63,
     "metadata": {},
     "output_type": "execute_result"
    }
   ],
   "source": [
    "counts"
   ]
  },
  {
   "cell_type": "markdown",
   "metadata": {},
   "source": [
    "==== nivel 2"
   ]
  },
  {
   "cell_type": "code",
   "execution_count": 64,
   "metadata": {},
   "outputs": [
    {
     "name": "stdout",
     "output_type": "stream",
     "text": [
      "[2.791011613956229e-05, 0.5709641359328611, 0.9709419383204906, 0.020000013444066544]\n"
     ]
    },
    {
     "data": {
      "text/plain": [
       "'Humedad'"
      ]
     },
     "execution_count": 64,
     "metadata": {},
     "output_type": "execute_result"
    }
   ],
   "source": [
    "node_2 = find_winner(subtable)\n",
    "node_2"
   ]
  },
  {
   "cell_type": "code",
   "execution_count": 65,
   "metadata": {},
   "outputs": [
    {
     "data": {
      "text/plain": [
       "array(['Alta', 'Normal'], dtype=object)"
      ]
     },
     "execution_count": 65,
     "metadata": {},
     "output_type": "execute_result"
    }
   ],
   "source": [
    "attValue_2 = np.unique(subtable[node_2])\n",
    "attValue_2"
   ]
  },
  {
   "cell_type": "code",
   "execution_count": 66,
   "metadata": {},
   "outputs": [
    {
     "data": {
      "text/html": [
       "<div>\n",
       "<style scoped>\n",
       "    .dataframe tbody tr th:only-of-type {\n",
       "        vertical-align: middle;\n",
       "    }\n",
       "\n",
       "    .dataframe tbody tr th {\n",
       "        vertical-align: top;\n",
       "    }\n",
       "\n",
       "    .dataframe thead th {\n",
       "        text-align: right;\n",
       "    }\n",
       "</style>\n",
       "<table border=\"1\" class=\"dataframe\">\n",
       "  <thead>\n",
       "    <tr style=\"text-align: right;\">\n",
       "      <th></th>\n",
       "      <th>Cielo</th>\n",
       "      <th>Temperatura</th>\n",
       "      <th>Humedad</th>\n",
       "      <th>Viento</th>\n",
       "      <th>Jugar_tenis</th>\n",
       "    </tr>\n",
       "  </thead>\n",
       "  <tbody>\n",
       "    <tr>\n",
       "      <th>0</th>\n",
       "      <td>Sol</td>\n",
       "      <td>Alta</td>\n",
       "      <td>Alta</td>\n",
       "      <td>Debil</td>\n",
       "      <td>-</td>\n",
       "    </tr>\n",
       "    <tr>\n",
       "      <th>1</th>\n",
       "      <td>Sol</td>\n",
       "      <td>Alta</td>\n",
       "      <td>Alta</td>\n",
       "      <td>Fuerte</td>\n",
       "      <td>-</td>\n",
       "    </tr>\n",
       "    <tr>\n",
       "      <th>2</th>\n",
       "      <td>Sol</td>\n",
       "      <td>Suave</td>\n",
       "      <td>Alta</td>\n",
       "      <td>Debil</td>\n",
       "      <td>-</td>\n",
       "    </tr>\n",
       "  </tbody>\n",
       "</table>\n",
       "</div>"
      ],
      "text/plain": [
       "  Cielo Temperatura Humedad  Viento Jugar_tenis\n",
       "0   Sol        Alta    Alta   Debil           -\n",
       "1   Sol        Alta    Alta  Fuerte           -\n",
       "2   Sol       Suave    Alta   Debil           -"
      ]
     },
     "execution_count": 66,
     "metadata": {},
     "output_type": "execute_result"
    }
   ],
   "source": [
    "subtable_2 = get_subtable(subtable,node_2,'Alta')\n",
    "subtable_2"
   ]
  },
  {
   "cell_type": "code",
   "execution_count": null,
   "metadata": {},
   "outputs": [],
   "source": []
  }
 ],
 "metadata": {
  "kernelspec": {
   "display_name": "Python 3",
   "language": "python",
   "name": "python3"
  },
  "language_info": {
   "codemirror_mode": {
    "name": "ipython",
    "version": 3
   },
   "file_extension": ".py",
   "mimetype": "text/x-python",
   "name": "python",
   "nbconvert_exporter": "python",
   "pygments_lexer": "ipython3",
   "version": "3.11.4"
  },
  "orig_nbformat": 4
 },
 "nbformat": 4,
 "nbformat_minor": 2
}
