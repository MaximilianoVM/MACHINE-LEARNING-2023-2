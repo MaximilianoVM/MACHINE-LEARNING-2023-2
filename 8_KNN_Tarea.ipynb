{
 "cells": [
  {
   "cell_type": "code",
   "execution_count": 1,
   "metadata": {},
   "outputs": [],
   "source": [
    "import numpy as np\n",
    "import matplotlib.pyplot as plt\n",
    "import pandas as pd\n",
    "from sklearn import metrics\n",
    "import os\n",
    "import random\n",
    "from statistics import mode"
   ]
  },
  {
   "cell_type": "code",
   "execution_count": 14,
   "metadata": {},
   "outputs": [
    {
     "ename": "ParserError",
     "evalue": "Error tokenizing data. C error: Expected 168 fields in line 5, saw 256\n",
     "output_type": "error",
     "traceback": [
      "\u001b[1;31m---------------------------------------------------------------------------\u001b[0m",
      "\u001b[1;31mParserError\u001b[0m                               Traceback (most recent call last)",
      "\u001b[1;32mc:\\Users\\Max\\Documents\\GitHub\\MACHINE-LEARNING-2023-2\\8_KNN_Tarea.ipynb Cell 2\u001b[0m line \u001b[0;36m8\n\u001b[0;32m      <a href='vscode-notebook-cell:/c%3A/Users/Max/Documents/GitHub/MACHINE-LEARNING-2023-2/8_KNN_Tarea.ipynb#X12sZmlsZQ%3D%3D?line=4'>5</a>\u001b[0m column_names \u001b[39m=\u001b[39m [\u001b[39m\"\u001b[39m\u001b[39mJCD\u001b[39m\u001b[39m\"\u001b[39m, \u001b[39m\"\u001b[39m\u001b[39mTamura\u001b[39m\u001b[39m\"\u001b[39m, \u001b[39m\"\u001b[39m\u001b[39mColorLayout\u001b[39m\u001b[39m\"\u001b[39m, \u001b[39m\"\u001b[39m\u001b[39mEdgeHistogram\u001b[39m\u001b[39m\"\u001b[39m, \u001b[39m\"\u001b[39m\u001b[39mAutoColorCorrelogram\u001b[39m\u001b[39m\"\u001b[39m, \u001b[39m\"\u001b[39m\u001b[39mPHOG\u001b[39m\u001b[39m\"\u001b[39m]\n\u001b[0;32m      <a href='vscode-notebook-cell:/c%3A/Users/Max/Documents/GitHub/MACHINE-LEARNING-2023-2/8_KNN_Tarea.ipynb#X12sZmlsZQ%3D%3D?line=6'>7</a>\u001b[0m \u001b[39m# Read the file using pandas\u001b[39;00m\n\u001b[1;32m----> <a href='vscode-notebook-cell:/c%3A/Users/Max/Documents/GitHub/MACHINE-LEARNING-2023-2/8_KNN_Tarea.ipynb#X12sZmlsZQ%3D%3D?line=7'>8</a>\u001b[0m df \u001b[39m=\u001b[39m pd\u001b[39m.\u001b[39;49mread_csv(file_path, sep\u001b[39m=\u001b[39;49m\u001b[39m'\u001b[39;49m\u001b[39m,\u001b[39;49m\u001b[39m'\u001b[39;49m, names\u001b[39m=\u001b[39;49mcolumn_names, header\u001b[39m=\u001b[39;49m\u001b[39mNone\u001b[39;49;00m, skipinitialspace\u001b[39m=\u001b[39;49m\u001b[39mTrue\u001b[39;49;00m)\n\u001b[0;32m     <a href='vscode-notebook-cell:/c%3A/Users/Max/Documents/GitHub/MACHINE-LEARNING-2023-2/8_KNN_Tarea.ipynb#X12sZmlsZQ%3D%3D?line=9'>10</a>\u001b[0m \u001b[39m# Display the DataFrame\u001b[39;00m\n\u001b[0;32m     <a href='vscode-notebook-cell:/c%3A/Users/Max/Documents/GitHub/MACHINE-LEARNING-2023-2/8_KNN_Tarea.ipynb#X12sZmlsZQ%3D%3D?line=10'>11</a>\u001b[0m df\n",
      "File \u001b[1;32mc:\\Users\\Max\\AppData\\Local\\Programs\\Python\\Python311\\Lib\\site-packages\\pandas\\io\\parsers\\readers.py:912\u001b[0m, in \u001b[0;36mread_csv\u001b[1;34m(filepath_or_buffer, sep, delimiter, header, names, index_col, usecols, dtype, engine, converters, true_values, false_values, skipinitialspace, skiprows, skipfooter, nrows, na_values, keep_default_na, na_filter, verbose, skip_blank_lines, parse_dates, infer_datetime_format, keep_date_col, date_parser, date_format, dayfirst, cache_dates, iterator, chunksize, compression, thousands, decimal, lineterminator, quotechar, quoting, doublequote, escapechar, comment, encoding, encoding_errors, dialect, on_bad_lines, delim_whitespace, low_memory, memory_map, float_precision, storage_options, dtype_backend)\u001b[0m\n\u001b[0;32m    899\u001b[0m kwds_defaults \u001b[39m=\u001b[39m _refine_defaults_read(\n\u001b[0;32m    900\u001b[0m     dialect,\n\u001b[0;32m    901\u001b[0m     delimiter,\n\u001b[1;32m   (...)\u001b[0m\n\u001b[0;32m    908\u001b[0m     dtype_backend\u001b[39m=\u001b[39mdtype_backend,\n\u001b[0;32m    909\u001b[0m )\n\u001b[0;32m    910\u001b[0m kwds\u001b[39m.\u001b[39mupdate(kwds_defaults)\n\u001b[1;32m--> 912\u001b[0m \u001b[39mreturn\u001b[39;00m _read(filepath_or_buffer, kwds)\n",
      "File \u001b[1;32mc:\\Users\\Max\\AppData\\Local\\Programs\\Python\\Python311\\Lib\\site-packages\\pandas\\io\\parsers\\readers.py:583\u001b[0m, in \u001b[0;36m_read\u001b[1;34m(filepath_or_buffer, kwds)\u001b[0m\n\u001b[0;32m    580\u001b[0m     \u001b[39mreturn\u001b[39;00m parser\n\u001b[0;32m    582\u001b[0m \u001b[39mwith\u001b[39;00m parser:\n\u001b[1;32m--> 583\u001b[0m     \u001b[39mreturn\u001b[39;00m parser\u001b[39m.\u001b[39;49mread(nrows)\n",
      "File \u001b[1;32mc:\\Users\\Max\\AppData\\Local\\Programs\\Python\\Python311\\Lib\\site-packages\\pandas\\io\\parsers\\readers.py:1704\u001b[0m, in \u001b[0;36mTextFileReader.read\u001b[1;34m(self, nrows)\u001b[0m\n\u001b[0;32m   1697\u001b[0m nrows \u001b[39m=\u001b[39m validate_integer(\u001b[39m\"\u001b[39m\u001b[39mnrows\u001b[39m\u001b[39m\"\u001b[39m, nrows)\n\u001b[0;32m   1698\u001b[0m \u001b[39mtry\u001b[39;00m:\n\u001b[0;32m   1699\u001b[0m     \u001b[39m# error: \"ParserBase\" has no attribute \"read\"\u001b[39;00m\n\u001b[0;32m   1700\u001b[0m     (\n\u001b[0;32m   1701\u001b[0m         index,\n\u001b[0;32m   1702\u001b[0m         columns,\n\u001b[0;32m   1703\u001b[0m         col_dict,\n\u001b[1;32m-> 1704\u001b[0m     ) \u001b[39m=\u001b[39m \u001b[39mself\u001b[39;49m\u001b[39m.\u001b[39;49m_engine\u001b[39m.\u001b[39;49mread(  \u001b[39m# type: ignore[attr-defined]\u001b[39;49;00m\n\u001b[0;32m   1705\u001b[0m         nrows\n\u001b[0;32m   1706\u001b[0m     )\n\u001b[0;32m   1707\u001b[0m \u001b[39mexcept\u001b[39;00m \u001b[39mException\u001b[39;00m:\n\u001b[0;32m   1708\u001b[0m     \u001b[39mself\u001b[39m\u001b[39m.\u001b[39mclose()\n",
      "File \u001b[1;32mc:\\Users\\Max\\AppData\\Local\\Programs\\Python\\Python311\\Lib\\site-packages\\pandas\\io\\parsers\\c_parser_wrapper.py:234\u001b[0m, in \u001b[0;36mCParserWrapper.read\u001b[1;34m(self, nrows)\u001b[0m\n\u001b[0;32m    232\u001b[0m \u001b[39mtry\u001b[39;00m:\n\u001b[0;32m    233\u001b[0m     \u001b[39mif\u001b[39;00m \u001b[39mself\u001b[39m\u001b[39m.\u001b[39mlow_memory:\n\u001b[1;32m--> 234\u001b[0m         chunks \u001b[39m=\u001b[39m \u001b[39mself\u001b[39;49m\u001b[39m.\u001b[39;49m_reader\u001b[39m.\u001b[39;49mread_low_memory(nrows)\n\u001b[0;32m    235\u001b[0m         \u001b[39m# destructive to chunks\u001b[39;00m\n\u001b[0;32m    236\u001b[0m         data \u001b[39m=\u001b[39m _concatenate_chunks(chunks)\n",
      "File \u001b[1;32mc:\\Users\\Max\\AppData\\Local\\Programs\\Python\\Python311\\Lib\\site-packages\\pandas\\_libs\\parsers.pyx:812\u001b[0m, in \u001b[0;36mpandas._libs.parsers.TextReader.read_low_memory\u001b[1;34m()\u001b[0m\n",
      "File \u001b[1;32mc:\\Users\\Max\\AppData\\Local\\Programs\\Python\\Python311\\Lib\\site-packages\\pandas\\_libs\\parsers.pyx:873\u001b[0m, in \u001b[0;36mpandas._libs.parsers.TextReader._read_rows\u001b[1;34m()\u001b[0m\n",
      "File \u001b[1;32mc:\\Users\\Max\\AppData\\Local\\Programs\\Python\\Python311\\Lib\\site-packages\\pandas\\_libs\\parsers.pyx:848\u001b[0m, in \u001b[0;36mpandas._libs.parsers.TextReader._tokenize_rows\u001b[1;34m()\u001b[0m\n",
      "File \u001b[1;32mc:\\Users\\Max\\AppData\\Local\\Programs\\Python\\Python311\\Lib\\site-packages\\pandas\\_libs\\parsers.pyx:859\u001b[0m, in \u001b[0;36mpandas._libs.parsers.TextReader._check_tokenize_status\u001b[1;34m()\u001b[0m\n",
      "File \u001b[1;32mc:\\Users\\Max\\AppData\\Local\\Programs\\Python\\Python311\\Lib\\site-packages\\pandas\\_libs\\parsers.pyx:2025\u001b[0m, in \u001b[0;36mpandas._libs.parsers.raise_parser_error\u001b[1;34m()\u001b[0m\n",
      "\u001b[1;31mParserError\u001b[0m: Error tokenizing data. C error: Expected 168 fields in line 5, saw 256\n"
     ]
    }
   ],
   "source": [
    "# Replace 'your_file_path.features' with the actual path to your file\n",
    "file_path = 'datasets/para_knn_t5/blurry-nothing/1.features'\n",
    "\n",
    "# Define column names based on the structure of the file\n",
    "column_names = [\"JCD\", \"Tamura\", \"ColorLayout\", \"EdgeHistogram\", \"AutoColorCorrelogram\", \"PHOG\"]\n",
    "\n",
    "# Read the file using pandas\n",
    "df = pd.read_csv(file_path, sep=',', names=column_names, header=None, skipinitialspace=True)\n",
    "\n",
    "# Display the DataFrame\n",
    "df"
   ]
  },
  {
   "cell_type": "code",
   "execution_count": 3,
   "metadata": {},
   "outputs": [
    {
     "data": {
      "text/plain": [
       "['blurry-nothing',\n",
       " 'colon-clear',\n",
       " 'dyed-lifted-polyps',\n",
       " 'dyed-resection-margins',\n",
       " 'esophagitis',\n",
       " 'normal-cecum',\n",
       " 'normal-pylorus',\n",
       " 'normal-z-line',\n",
       " 'polyps',\n",
       " 'retroflex-rectum',\n",
       " 'retroflex-stomach',\n",
       " 'stool-inclusions',\n",
       " 'stool-plenty',\n",
       " 'ulcerative-colitis']"
      ]
     },
     "execution_count": 3,
     "metadata": {},
     "output_type": "execute_result"
    }
   ],
   "source": [
    "k=[1,3,5]\n",
    "#random.seed(1)\n",
    "#direct='C:/Users/Usuario/OneDrive/Documentos/Universidad/AAS/nearest neighbors/Datos/'\n",
    "clases=os.listdir('datasets/para_knn_t5')\n",
    "clases"
   ]
  },
  {
   "cell_type": "code",
   "execution_count": 4,
   "metadata": {},
   "outputs": [],
   "source": [
    "#Elegir al menos tres clases de la carpeta “Para la T5” \n",
    "clases = ['esophagitis', 'polyps', 'blurry-nothing']"
   ]
  },
  {
   "cell_type": "code",
   "execution_count": 5,
   "metadata": {},
   "outputs": [],
   "source": [
    "#Elegir al menos 30 ejemplos para cada clase para entrenar\n",
    "ejemplos_es = []\n",
    "ejemplos_pol = []\n",
    "ejemplos_blur = [] "
   ]
  },
  {
   "cell_type": "code",
   "execution_count": 10,
   "metadata": {},
   "outputs": [
    {
     "name": "stdout",
     "output_type": "stream",
     "text": [
      "esophagitis : ['1.features', '10.features', '100.features', '101.features', '102.features', '103.features', '104.features', '105.features', '106.features', '107.features', '108.features', '109.features', '11.features', '110.features', '111.features', '112.features', '113.features', '114.features', '115.features', '116.features', '117.features', '118.features', '119.features', '12.features', '120.features', '121.features', '122.features', '123.features', '124.features', '125.features', '126.features', '127.features', '128.features', '129.features', '13.features', '130.features', '131.features', '132.features', '133.features', '134.features', '135.features', '136.features', '137.features', '138.features', '139.features', '14.features', '140.features', '141.features', '142.features', '143.features', '144.features', '145.features', '146.features', '147.features', '148.features', '149.features', '15.features', '150.features', '151.features', '152.features', '153.features', '154.features', '155.features', '156.features', '157.features', '158.features', '159.features', '16.features', '160.features', '161.features', '162.features', '163.features', '164.features', '165.features', '166.features', '167.features', '168.features', '169.features', '17.features', '170.features', '171.features', '172.features', '173.features', '174.features', '175.features', '176.features', '177.features', '178.features', '179.features', '18.features', '180.features', '181.features', '182.features', '183.features', '184.features', '185.features', '186.features', '187.features', '188.features', '189.features', '19.features', '190.features', '191.features', '192.features', '193.features', '194.features', '195.features', '196.features', '197.features', '198.features', '199.features', '2.features', '20.features', '200.features', '201.features', '202.features', '203.features', '204.features', '205.features', '206.features', '207.features', '208.features', '209.features', '21.features', '210.features', '211.features', '212.features', '213.features', '214.features', '215.features', '216.features', '217.features', '218.features', '219.features', '22.features', '220.features', '221.features', '222.features', '223.features', '224.features', '225.features', '226.features', '227.features', '228.features', '229.features', '23.features', '230.features', '231.features', '232.features', '233.features', '234.features', '235.features', '236.features', '237.features', '238.features', '239.features', '24.features', '240.features', '241.features', '242.features', '243.features', '244.features', '245.features', '246.features', '247.features', '248.features', '249.features', '25.features', '250.features', '251.features', '252.features', '253.features', '254.features', '255.features', '256.features', '257.features', '258.features', '259.features', '26.features', '260.features', '261.features', '262.features', '263.features', '264.features', '265.features', '266.features', '267.features', '268.features', '269.features', '27.features', '270.features', '271.features', '272.features', '273.features', '274.features', '275.features', '276.features', '277.features', '278.features', '279.features', '28.features', '280.features', '281.features', '282.features', '283.features', '284.features', '285.features', '286.features', '287.features', '288.features', '289.features', '29.features', '290.features', '291.features', '292.features', '293.features', '294.features', '295.features', '296.features', '297.features', '298.features', '299.features', '3.features', '30.features', '300.features', '301.features', '302.features', '303.features', '304.features', '305.features', '306.features', '307.features', '308.features', '309.features', '31.features', '310.features', '311.features', '312.features', '313.features', '314.features', '315.features', '316.features', '317.features', '318.features', '319.features', '32.features', '320.features', '321.features', '322.features', '323.features', '324.features', '325.features', '326.features', '327.features', '328.features', '329.features', '33.features', '330.features', '331.features', '332.features', '333.features', '334.features', '335.features', '336.features', '337.features', '338.features', '339.features', '34.features', '340.features', '341.features', '342.features', '343.features', '344.features', '345.features', '346.features', '347.features', '348.features', '349.features', '35.features', '350.features', '351.features', '352.features', '353.features', '354.features', '355.features', '356.features', '357.features', '358.features', '359.features', '36.features', '360.features', '361.features', '362.features', '363.features', '364.features', '365.features', '366.features', '367.features', '368.features', '369.features', '37.features', '370.features', '371.features', '372.features', '373.features', '374.features', '375.features', '376.features', '377.features', '378.features', '379.features', '38.features', '380.features', '381.features', '382.features', '383.features', '384.features', '385.features', '386.features', '387.features', '388.features', '389.features', '39.features', '390.features', '391.features', '392.features', '393.features', '394.features', '395.features', '396.features', '397.features', '398.features', '399.features', '4.features', '40.features', '400.features', '401.features', '402.features', '403.features', '404.features', '405.features', '406.features', '407.features', '408.features', '409.features', '41.features', '410.features', '411.features', '412.features', '413.features', '414.features', '415.features', '416.features', '417.features', '418.features', '419.features', '42.features', '420.features', '421.features', '422.features', '423.features', '424.features', '425.features', '426.features', '427.features', '428.features', '429.features', '43.features', '430.features', '431.features', '432.features', '433.features', '434.features', '435.features', '436.features', '437.features', '438.features', '439.features', '44.features', '440.features', '441.features', '442.features', '443.features', '444.features', '45.features', '46.features', '47.features', '48.features', '49.features', '5.features', '50.features', '51.features', '52.features', '53.features', '54.features', '55.features', '56.features', '57.features', '58.features', '59.features', '6.features', '60.features', '61.features', '62.features', '63.features', '64.features', '65.features', '66.features', '67.features', '68.features', '69.features', '7.features', '70.features', '71.features', '72.features', '73.features', '74.features', '75.features', '76.features', '77.features', '78.features', '79.features', '8.features', '80.features', '81.features', '82.features', '83.features', '84.features', '85.features', '86.features', '87.features', '88.features', '89.features', '9.features', '90.features', '91.features', '92.features', '93.features', '94.features', '95.features', '96.features', '97.features', '98.features', '99.features']\n",
      "polyps : ['1.features', '10.features', '100.features', '101.features', '102.features', '103.features', '104.features', '105.features', '106.features', '107.features', '108.features', '109.features', '11.features', '110.features', '111.features', '112.features', '113.features', '114.features', '115.features', '116.features', '117.features', '118.features', '119.features', '12.features', '120.features', '121.features', '122.features', '123.features', '124.features', '125.features', '126.features', '127.features', '128.features', '129.features', '13.features', '130.features', '131.features', '132.features', '133.features', '134.features', '135.features', '136.features', '137.features', '138.features', '139.features', '14.features', '140.features', '141.features', '142.features', '143.features', '144.features', '145.features', '146.features', '147.features', '148.features', '149.features', '15.features', '150.features', '151.features', '152.features', '153.features', '154.features', '155.features', '156.features', '157.features', '158.features', '159.features', '16.features', '160.features', '161.features', '162.features', '163.features', '164.features', '165.features', '166.features', '167.features', '168.features', '169.features', '17.features', '170.features', '171.features', '172.features', '173.features', '174.features', '175.features', '176.features', '177.features', '178.features', '179.features', '18.features', '180.features', '181.features', '182.features', '183.features', '184.features', '185.features', '186.features', '187.features', '188.features', '189.features', '19.features', '190.features', '191.features', '192.features', '193.features', '194.features', '195.features', '196.features', '197.features', '198.features', '199.features', '2.features', '20.features', '200.features', '201.features', '202.features', '203.features', '204.features', '205.features', '206.features', '207.features', '208.features', '209.features', '21.features', '210.features', '211.features', '212.features', '213.features', '214.features', '215.features', '216.features', '217.features', '218.features', '219.features', '22.features', '220.features', '221.features', '222.features', '223.features', '224.features', '225.features', '226.features', '227.features', '228.features', '229.features', '23.features', '230.features', '231.features', '232.features', '233.features', '234.features', '235.features', '236.features', '237.features', '238.features', '239.features', '24.features', '240.features', '241.features', '242.features', '243.features', '244.features', '245.features', '246.features', '247.features', '248.features', '249.features', '25.features', '250.features', '251.features', '252.features', '253.features', '254.features', '255.features', '256.features', '257.features', '258.features', '259.features', '26.features', '260.features', '261.features', '262.features', '263.features', '264.features', '265.features', '266.features', '267.features', '268.features', '269.features', '27.features', '270.features', '271.features', '272.features', '273.features', '274.features', '275.features', '276.features', '277.features', '278.features', '279.features', '28.features', '280.features', '281.features', '282.features', '283.features', '284.features', '285.features', '286.features', '287.features', '288.features', '289.features', '29.features', '290.features', '291.features', '292.features', '293.features', '294.features', '295.features', '296.features', '297.features', '298.features', '299.features', '3.features', '30.features', '300.features', '301.features', '302.features', '303.features', '304.features', '305.features', '306.features', '307.features', '308.features', '309.features', '31.features', '310.features', '311.features', '312.features', '313.features', '314.features', '315.features', '316.features', '317.features', '318.features', '319.features', '32.features', '320.features', '321.features', '322.features', '323.features', '324.features', '325.features', '326.features', '327.features', '328.features', '329.features', '33.features', '330.features', '331.features', '332.features', '333.features', '334.features', '335.features', '336.features', '337.features', '338.features', '339.features', '34.features', '340.features', '341.features', '342.features', '343.features', '344.features', '345.features', '346.features', '347.features', '348.features', '349.features', '35.features', '350.features', '351.features', '352.features', '353.features', '354.features', '355.features', '356.features', '357.features', '358.features', '359.features', '36.features', '360.features', '361.features', '362.features', '363.features', '364.features', '365.features', '366.features', '367.features', '368.features', '369.features', '37.features', '370.features', '371.features', '372.features', '373.features', '374.features', '375.features', '376.features', '377.features', '378.features', '379.features', '38.features', '380.features', '381.features', '382.features', '383.features', '384.features', '385.features', '386.features', '387.features', '388.features', '389.features', '39.features', '390.features', '391.features', '392.features', '393.features', '394.features', '395.features', '396.features', '397.features', '398.features', '399.features', '4.features', '40.features', '400.features', '401.features', '402.features', '403.features', '404.features', '405.features', '406.features', '407.features', '408.features', '409.features', '41.features', '410.features', '411.features', '412.features', '413.features', '414.features', '415.features', '416.features', '417.features', '418.features', '419.features', '42.features', '420.features', '421.features', '422.features', '423.features', '424.features', '425.features', '426.features', '427.features', '428.features', '429.features', '43.features', '430.features', '431.features', '432.features', '433.features', '434.features', '435.features', '436.features', '437.features', '438.features', '439.features', '44.features', '440.features', '441.features', '442.features', '443.features', '444.features', '445.features', '446.features', '447.features', '448.features', '449.features', '45.features', '450.features', '451.features', '452.features', '453.features', '454.features', '455.features', '456.features', '457.features', '458.features', '459.features', '46.features', '460.features', '461.features', '462.features', '463.features', '464.features', '465.features', '466.features', '467.features', '468.features', '469.features', '47.features', '470.features', '471.features', '472.features', '473.features', '474.features', '475.features', '476.features', '477.features', '478.features', '479.features', '48.features', '480.features', '481.features', '482.features', '483.features', '484.features', '485.features', '486.features', '487.features', '488.features', '489.features', '49.features', '490.features', '491.features', '492.features', '493.features', '494.features', '495.features', '496.features', '497.features', '498.features', '499.features', '5.features', '50.features', '500.features', '501.features', '502.features', '503.features', '504.features', '505.features', '506.features', '507.features', '508.features', '509.features', '51.features', '510.features', '511.features', '512.features', '513.features', '514.features', '515.features', '516.features', '517.features', '518.features', '519.features', '52.features', '520.features', '521.features', '522.features', '523.features', '524.features', '525.features', '526.features', '527.features', '528.features', '529.features', '53.features', '530.features', '531.features', '532.features', '533.features', '534.features', '535.features', '536.features', '537.features', '538.features', '539.features', '54.features', '540.features', '541.features', '542.features', '543.features', '544.features', '545.features', '546.features', '547.features', '548.features', '549.features', '55.features', '550.features', '551.features', '552.features', '553.features', '554.features', '555.features', '556.features', '557.features', '558.features', '559.features', '56.features', '560.features', '561.features', '562.features', '563.features', '564.features', '565.features', '566.features', '567.features', '568.features', '569.features', '57.features', '570.features', '571.features', '572.features', '573.features', '574.features', '575.features', '576.features', '577.features', '578.features', '579.features', '58.features', '580.features', '581.features', '582.features', '583.features', '584.features', '585.features', '586.features', '587.features', '588.features', '589.features', '59.features', '590.features', '591.features', '592.features', '593.features', '594.features', '595.features', '596.features', '597.features', '598.features', '599.features', '6.features', '60.features', '600.features', '601.features', '602.features', '603.features', '604.features', '605.features', '606.features', '607.features', '608.features', '609.features', '61.features', '610.features', '611.features', '612.features', '613.features', '62.features', '63.features', '64.features', '65.features', '66.features', '67.features', '68.features', '69.features', '7.features', '70.features', '71.features', '72.features', '73.features', '74.features', '75.features', '76.features', '77.features', '78.features', '79.features', '8.features', '80.features', '81.features', '82.features', '83.features', '84.features', '85.features', '86.features', '87.features', '88.features', '89.features', '9.features', '90.features', '91.features', '92.features', '93.features', '94.features', '95.features', '96.features', '97.features', '98.features', '99.features']\n",
      "blurry-nothing : ['1.features', '10.features', '100.features', '101.features', '102.features', '103.features', '104.features', '105.features', '106.features', '107.features', '108.features', '109.features', '11.features', '110.features', '111.features', '112.features', '113.features', '114.features', '115.features', '116.features', '117.features', '118.features', '119.features', '12.features', '120.features', '121.features', '122.features', '123.features', '124.features', '125.features', '126.features', '127.features', '128.features', '129.features', '13.features', '130.features', '131.features', '132.features', '133.features', '134.features', '135.features', '136.features', '137.features', '138.features', '139.features', '14.features', '140.features', '141.features', '142.features', '143.features', '144.features', '145.features', '146.features', '147.features', '148.features', '149.features', '15.features', '150.features', '151.features', '152.features', '153.features', '154.features', '155.features', '156.features', '157.features', '158.features', '159.features', '16.features', '160.features', '161.features', '162.features', '163.features', '164.features', '165.features', '166.features', '167.features', '168.features', '169.features', '17.features', '170.features', '171.features', '172.features', '173.features', '174.features', '175.features', '176.features', '18.features', '19.features', '2.features', '20.features', '21.features', '22.features', '23.features', '24.features', '25.features', '26.features', '27.features', '28.features', '29.features', '3.features', '30.features', '31.features', '32.features', '33.features', '34.features', '35.features', '36.features', '37.features', '38.features', '39.features', '4.features', '40.features', '41.features', '42.features', '43.features', '44.features', '45.features', '46.features', '47.features', '48.features', '49.features', '5.features', '50.features', '51.features', '52.features', '53.features', '54.features', '55.features', '56.features', '57.features', '58.features', '59.features', '6.features', '60.features', '61.features', '62.features', '63.features', '64.features', '65.features', '66.features', '67.features', '68.features', '69.features', '7.features', '70.features', '71.features', '72.features', '73.features', '74.features', '75.features', '76.features', '77.features', '78.features', '79.features', '8.features', '80.features', '81.features', '82.features', '83.features', '84.features', '85.features', '86.features', '87.features', '88.features', '89.features', '9.features', '90.features', '91.features', '92.features', '93.features', '94.features', '95.features', '96.features', '97.features', '98.features', '99.features']\n"
     ]
    }
   ],
   "source": [
    "ejemplos = {}\n",
    "for clase in clases: \n",
    "    ejemplos[clase] = os.listdir('datasets/para_knn_t5/'+clase)\n",
    "    print(clase, ':', ejemplos[clase])"
   ]
  },
  {
   "cell_type": "code",
   "execution_count": null,
   "metadata": {},
   "outputs": [],
   "source": []
  }
 ],
 "metadata": {
  "kernelspec": {
   "display_name": "Python 3",
   "language": "python",
   "name": "python3"
  },
  "language_info": {
   "codemirror_mode": {
    "name": "ipython",
    "version": 3
   },
   "file_extension": ".py",
   "mimetype": "text/x-python",
   "name": "python",
   "nbconvert_exporter": "python",
   "pygments_lexer": "ipython3",
   "version": "3.11.4"
  }
 },
 "nbformat": 4,
 "nbformat_minor": 2
}
