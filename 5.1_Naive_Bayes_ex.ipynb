{
 "cells": [
  {
   "cell_type": "markdown",
   "metadata": {},
   "source": [
    "<h2>Tools</h2>"
   ]
  },
  {
   "cell_type": "code",
   "execution_count": 42,
   "metadata": {},
   "outputs": [],
   "source": [
    "import numpy as np \n",
    "import pandas as pd \n",
    "import matplotlib.pyplot as plt \n",
    "import seaborn as sns \n",
    "sns.set_style(\"darkgrid\")"
   ]
  },
  {
   "cell_type": "markdown",
   "metadata": {},
   "source": [
    "<h2>Dataset</h2>"
   ]
  },
  {
   "cell_type": "code",
   "execution_count": 43,
   "metadata": {},
   "outputs": [
    {
     "data": {
      "text/html": [
       "<div>\n",
       "<style scoped>\n",
       "    .dataframe tbody tr th:only-of-type {\n",
       "        vertical-align: middle;\n",
       "    }\n",
       "\n",
       "    .dataframe tbody tr th {\n",
       "        vertical-align: top;\n",
       "    }\n",
       "\n",
       "    .dataframe thead th {\n",
       "        text-align: right;\n",
       "    }\n",
       "</style>\n",
       "<table border=\"1\" class=\"dataframe\">\n",
       "  <thead>\n",
       "    <tr style=\"text-align: right;\">\n",
       "      <th></th>\n",
       "      <th>schedtime</th>\n",
       "      <th>carrier</th>\n",
       "      <th>dest</th>\n",
       "      <th>distance</th>\n",
       "      <th>flightnumber</th>\n",
       "      <th>origin</th>\n",
       "      <th>weather</th>\n",
       "      <th>dayweek</th>\n",
       "      <th>weekmonth</th>\n",
       "      <th>tailnu</th>\n",
       "      <th>delay</th>\n",
       "    </tr>\n",
       "  </thead>\n",
       "  <tbody>\n",
       "    <tr>\n",
       "      <th>0</th>\n",
       "      <td>14</td>\n",
       "      <td>OH</td>\n",
       "      <td>JFK</td>\n",
       "      <td>184</td>\n",
       "      <td>5</td>\n",
       "      <td>BWI</td>\n",
       "      <td>0</td>\n",
       "      <td>4</td>\n",
       "      <td>0</td>\n",
       "      <td>A</td>\n",
       "      <td>ontime</td>\n",
       "    </tr>\n",
       "    <tr>\n",
       "      <th>1</th>\n",
       "      <td>16</td>\n",
       "      <td>DH</td>\n",
       "      <td>JFK</td>\n",
       "      <td>213</td>\n",
       "      <td>6</td>\n",
       "      <td>DCA</td>\n",
       "      <td>0</td>\n",
       "      <td>4</td>\n",
       "      <td>0</td>\n",
       "      <td>J</td>\n",
       "      <td>ontime</td>\n",
       "    </tr>\n",
       "    <tr>\n",
       "      <th>2</th>\n",
       "      <td>12</td>\n",
       "      <td>DH</td>\n",
       "      <td>LGA</td>\n",
       "      <td>229</td>\n",
       "      <td>7</td>\n",
       "      <td>IAD</td>\n",
       "      <td>0</td>\n",
       "      <td>4</td>\n",
       "      <td>0</td>\n",
       "      <td>R</td>\n",
       "      <td>ontime</td>\n",
       "    </tr>\n",
       "    <tr>\n",
       "      <th>3</th>\n",
       "      <td>17</td>\n",
       "      <td>DH</td>\n",
       "      <td>LGA</td>\n",
       "      <td>229</td>\n",
       "      <td>7</td>\n",
       "      <td>IAD</td>\n",
       "      <td>0</td>\n",
       "      <td>4</td>\n",
       "      <td>0</td>\n",
       "      <td>R</td>\n",
       "      <td>ontime</td>\n",
       "    </tr>\n",
       "    <tr>\n",
       "      <th>4</th>\n",
       "      <td>10</td>\n",
       "      <td>DH</td>\n",
       "      <td>LGA</td>\n",
       "      <td>229</td>\n",
       "      <td>7</td>\n",
       "      <td>IAD</td>\n",
       "      <td>0</td>\n",
       "      <td>4</td>\n",
       "      <td>0</td>\n",
       "      <td>R</td>\n",
       "      <td>ontime</td>\n",
       "    </tr>\n",
       "    <tr>\n",
       "      <th>5</th>\n",
       "      <td>8</td>\n",
       "      <td>DH</td>\n",
       "      <td>JFK</td>\n",
       "      <td>228</td>\n",
       "      <td>7</td>\n",
       "      <td>IAD</td>\n",
       "      <td>0</td>\n",
       "      <td>4</td>\n",
       "      <td>0</td>\n",
       "      <td>R</td>\n",
       "      <td>ontime</td>\n",
       "    </tr>\n",
       "    <tr>\n",
       "      <th>6</th>\n",
       "      <td>12</td>\n",
       "      <td>DH</td>\n",
       "      <td>JFK</td>\n",
       "      <td>228</td>\n",
       "      <td>7</td>\n",
       "      <td>IAD</td>\n",
       "      <td>0</td>\n",
       "      <td>4</td>\n",
       "      <td>0</td>\n",
       "      <td>E</td>\n",
       "      <td>ontime</td>\n",
       "    </tr>\n",
       "    <tr>\n",
       "      <th>7</th>\n",
       "      <td>16</td>\n",
       "      <td>DH</td>\n",
       "      <td>JFK</td>\n",
       "      <td>228</td>\n",
       "      <td>7</td>\n",
       "      <td>IAD</td>\n",
       "      <td>0</td>\n",
       "      <td>4</td>\n",
       "      <td>0</td>\n",
       "      <td>E</td>\n",
       "      <td>ontime</td>\n",
       "    </tr>\n",
       "    <tr>\n",
       "      <th>8</th>\n",
       "      <td>17</td>\n",
       "      <td>DH</td>\n",
       "      <td>JFK</td>\n",
       "      <td>228</td>\n",
       "      <td>7</td>\n",
       "      <td>IAD</td>\n",
       "      <td>0</td>\n",
       "      <td>4</td>\n",
       "      <td>0</td>\n",
       "      <td>E</td>\n",
       "      <td>ontime</td>\n",
       "    </tr>\n",
       "    <tr>\n",
       "      <th>9</th>\n",
       "      <td>21</td>\n",
       "      <td>DH</td>\n",
       "      <td>JFK</td>\n",
       "      <td>228</td>\n",
       "      <td>7</td>\n",
       "      <td>IAD</td>\n",
       "      <td>0</td>\n",
       "      <td>4</td>\n",
       "      <td>0</td>\n",
       "      <td>R</td>\n",
       "      <td>ontime</td>\n",
       "    </tr>\n",
       "  </tbody>\n",
       "</table>\n",
       "</div>"
      ],
      "text/plain": [
       "   schedtime carrier dest  distance  flightnumber origin  weather  dayweek  \\\n",
       "0         14      OH  JFK       184             5    BWI        0        4   \n",
       "1         16      DH  JFK       213             6    DCA        0        4   \n",
       "2         12      DH  LGA       229             7    IAD        0        4   \n",
       "3         17      DH  LGA       229             7    IAD        0        4   \n",
       "4         10      DH  LGA       229             7    IAD        0        4   \n",
       "5          8      DH  JFK       228             7    IAD        0        4   \n",
       "6         12      DH  JFK       228             7    IAD        0        4   \n",
       "7         16      DH  JFK       228             7    IAD        0        4   \n",
       "8         17      DH  JFK       228             7    IAD        0        4   \n",
       "9         21      DH  JFK       228             7    IAD        0        4   \n",
       "\n",
       "   weekmonth tailnu   delay  \n",
       "0          0      A  ontime  \n",
       "1          0      J  ontime  \n",
       "2          0      R  ontime  \n",
       "3          0      R  ontime  \n",
       "4          0      R  ontime  \n",
       "5          0      R  ontime  \n",
       "6          0      E  ontime  \n",
       "7          0      E  ontime  \n",
       "8          0      E  ontime  \n",
       "9          0      R  ontime  "
      ]
     },
     "execution_count": 43,
     "metadata": {},
     "output_type": "execute_result"
    }
   ],
   "source": [
    "data = pd.read_csv(\"NB_flightDelays_prepared.csv\")\n",
    "data.head(10) #target = delay e ['ontime', 'delayed']"
   ]
  },
  {
   "cell_type": "code",
   "execution_count": 44,
   "metadata": {},
   "outputs": [
    {
     "data": {
      "text/plain": [
       "<Axes: >"
      ]
     },
     "execution_count": 44,
     "metadata": {},
     "output_type": "execute_result"
    },
    {
     "data": {
      "image/png": "[encoded data removed]",
      "text/plain": [
       "<Figure size 640x480 with 1 Axes>"
      ]
     },
     "metadata": {},
     "output_type": "display_data"
    }
   ],
   "source": [
    "data[\"delay\"].hist()"
   ]
  },
  {
   "cell_type": "markdown",
   "metadata": {},
   "source": [
    "![Alt text](image-13.png)"
   ]
  },
  {
   "cell_type": "markdown",
   "metadata": {},
   "source": [
    "<h3>prior P(Y)</h3>"
   ]
  },
  {
   "cell_type": "code",
   "execution_count": 45,
   "metadata": {},
   "outputs": [],
   "source": [
    "#df -> dataframe\n",
    "#Y -> target variable\n",
    "def calculate_prior(df, Y):\n",
    "    classes = sorted(list( df[Y].unique() )) #Y e [0,1]<--classes\n",
    "    prior = []\n",
    "    for clas in classes: # in [0,1]\n",
    "        prior.append( len( df[ df[Y]==clas ] ) / len(df) )\n",
    "    return prior"
   ]
  },
  {
   "cell_type": "code",
   "execution_count": 46,
   "metadata": {},
   "outputs": [
    {
     "data": {
      "text/plain": [
       "['delayed', 'ontime']"
      ]
     },
     "execution_count": 46,
     "metadata": {},
     "output_type": "execute_result"
    }
   ],
   "source": [
    "sorted(list(data['delay'].unique()))"
   ]
  },
  {
   "cell_type": "code",
   "execution_count": 47,
   "metadata": {},
   "outputs": [
    {
     "data": {
      "text/plain": [
       "[0.19445706497046797, 0.805542935029532]"
      ]
     },
     "execution_count": 47,
     "metadata": {},
     "output_type": "execute_result"
    }
   ],
   "source": [
    "calculate_prior(data, 'delay')"
   ]
  },
  {
   "cell_type": "code",
   "execution_count": 48,
   "metadata": {},
   "outputs": [
    {
     "data": {
      "text/plain": [
       "1.0"
      ]
     },
     "execution_count": 48,
     "metadata": {},
     "output_type": "execute_result"
    }
   ],
   "source": [
    "sum(calculate_prior(data, 'delay'))"
   ]
  },
  {
   "cell_type": "markdown",
   "metadata": {},
   "source": [
    "<h3>likelihood P(X|Y)</h3>"
   ]
  },
  {
   "cell_type": "code",
   "execution_count": 49,
   "metadata": {},
   "outputs": [],
   "source": [
    "#df -> dataframe: data\n",
    "#feat_name -> feature name: [schedtime, carrier, dest, distance, flightnumber, origin, weather, dayweek, weekmonth, tailnu]\t\n",
    "#feat_val -> feature value\n",
    "#Y -> target variable: 'delay'\n",
    "#label -> class label: [ontime, delayed]\n",
    "\n",
    "def calculate_naive_likelihood(df, feat_name, feat_val, Y, label):\n",
    "    df = df[ df[Y]==label ]\n",
    "    numerator = len( df[ df[feat_name]==feat_val ] )\n",
    "    denominator = len(df)\n",
    "    return numerator / denominator"
   ]
  },
  {
   "cell_type": "code",
   "execution_count": 50,
   "metadata": {},
   "outputs": [
    {
     "data": {
      "text/plain": [
       "10.039481105470953"
      ]
     },
     "execution_count": 50,
     "metadata": {},
     "output_type": "execute_result"
    }
   ],
   "source": [
    "calculate_naive_likelihood(data, \"schedtime\", 17, \"delay\", 'ontime') * 100"
   ]
  },
  {
   "cell_type": "markdown",
   "metadata": {},
   "source": [
    "<h1>Naive Bayes</h1> <b>Calculate P(X=x1|Y=y)P(X=x2|Y=y)...P(X=xn|Y=y) * P(Y=y) for all y and find the maximum</b>"
   ]
  },
  {
   "cell_type": "code",
   "execution_count": 51,
   "metadata": {},
   "outputs": [],
   "source": [
    "def naive_bayes(df, X, Y):\n",
    "    # get feature names\n",
    "    features = list(df.columns)[:-1] #columns except Y --> ex. [schedtime, carrier, dest, distance, flightnumber, origin, weather, dayweek, weekmonth, tailnu]\t\n",
    "\n",
    "    # calculate prior\n",
    "    prior = calculate_prior(df, Y) #P(Y)\n",
    "\n",
    "    Y_pred = []\n",
    "    \n",
    "    # loop over every data sample\n",
    "    for x in X:\n",
    "        # calculate likelihood\n",
    "        classes = sorted(list(df[Y].unique())) #ex. Y e [ontime, delayed]<--classes\n",
    "        likelihood = [1]*len(classes) \n",
    "        for j in range(len(classes)): #ex. j e Y[ontime, delayed]\n",
    "            for i in range(len(features)): #ex. i e X[schedtime, carrier, dest, distance, flightnumber, origin, weather, dayweek, weekmonth, tailnu]\n",
    "                likelihood[j] *= calculate_naive_likelihood(df, features[i], x[i], Y, classes[j])\n",
    "\n",
    "        # calculate posterior probability (numerator only)\n",
    "        post_prob = [1]*len(classes)\n",
    "        for j in range(len(classes)):\n",
    "            post_prob[j] = likelihood[j] * prior[j]\n",
    "\n",
    "        #Y_pred.append(np.argmax(post_prob))\n",
    "        Y_pred.append(classes[np.argmax(post_prob)]) \n",
    "\n",
    "    return np.array(Y_pred) "
   ]
  },
  {
   "cell_type": "markdown",
   "metadata": {},
   "source": [
    "<h3>aplicamos</h3>"
   ]
  },
  {
   "cell_type": "code",
   "execution_count": 52,
   "metadata": {},
   "outputs": [
    {
     "name": "stdout",
     "output_type": "stream",
     "text": [
      "schedtime : [6, 7, 8, 9, 10, 11, 12, 13, 14, 15, 16, 17, 18, 19, 20, 21]\n",
      "carrier : ['CO', 'DH', 'DL', 'MQ', 'OH', 'RU', 'UA', 'US']\n",
      "dest : ['EWR', 'JFK', 'LGA']\n",
      "distance : [169, 184, 199, 213, 214, 228, 229]\n",
      "flightnumber : [0, 1, 2, 3, 4, 5, 6, 7]\n",
      "origin : ['BWI', 'DCA', 'IAD']\n",
      "weather : [0, 1]\n",
      "dayweek : [1, 2, 3, 4, 5, 6, 7]\n",
      "weekmonth : [0, 1, 2, 3, 4]\n",
      "tailnu : ['0', '1', '2', '3', '4', '5', '6', '7', '8', '9', 'A', 'B', 'E', 'J', 'L', 'N', 'Q', 'R', 'W', 'Z']\n",
      "delay : ['delayed', 'ontime']\n"
     ]
    }
   ],
   "source": [
    "#print unique values for every column\n",
    "for col in data.columns:\n",
    "    print(col, \":\", sorted(data[col].unique()))\n",
    "    "
   ]
  },
  {
   "cell_type": "code",
   "execution_count": 53,
   "metadata": {},
   "outputs": [
    {
     "data": {
      "text/plain": [
       "array(['ontime', 'delayed'], dtype='<U7')"
      ]
     },
     "execution_count": 53,
     "metadata": {},
     "output_type": "execute_result"
    }
   ],
   "source": [
    "#[schedtime, carrier, dest, distance, flightnumber, origin, weather, dayweek, weekmonth, tailnu]\t\n",
    "X = [[17, 'DH', 'JFK', 228, 7, 'IAD', 0, 2, 1, 'E'], \n",
    "     [12, 'DH', 'JFK', 228, 7, 'IAD', 1, 4, 0, 'E']]  \n",
    "\n",
    "\n",
    "#  estimated value of Y given that X = (17, 'DH', 'JFK', 228, 7, 'IAD', 0, 4, 0, 'E')\n",
    "\n",
    "predictions = naive_bayes(data, X, \"delay\")\n",
    "\n",
    "predictions"
   ]
  },
  {
   "cell_type": "code",
   "execution_count": null,
   "metadata": {},
   "outputs": [],
   "source": []
  }
 ],
 "metadata": {
  "kernelspec": {
   "display_name": "Python 3",
   "language": "python",
   "name": "python3"
  },
  "language_info": {
   "codemirror_mode": {
    "name": "ipython",
    "version": 3
   },
   "file_extension": ".py",
   "mimetype": "text/x-python",
   "name": "python",
   "nbconvert_exporter": "python",
   "pygments_lexer": "ipython3",
   "version": "3.11.4"
  },
  "orig_nbformat": 4
 },
 "nbformat": 4,
 "nbformat_minor": 2
}
